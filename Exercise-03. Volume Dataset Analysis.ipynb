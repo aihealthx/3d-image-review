{
 "cells": [
  {
   "cell_type": "markdown",
   "metadata": {},
   "source": [
    "# Volume Dataset Analysis\n",
    "\n",
    "In this exercise you will be analyzing a DICOM dataset. This dataset is not as conveniently organized on the filesystem as some of the datasets we have seen in the lesson just now. Rather, this dataset looks like somethign that you are likely to get as a raw dump from a clinical data archive.  \n",
    "\n",
    "Your task is to use the skills you have acquired in this lesson to go through this dataset and answer (or provide your best quess to) the following questions:\n",
    "1. What imaging modality was used to produce this dataset?\n",
    "1. Data from how many patients does the dataset include?\n",
    "1. How many studies are in the dataset?\n",
    "1. What is the oldest and most recent study in the dataset?\n",
    "1. How many series are in the dataset?\n",
    "\n",
    "In addition, do the following tasks:\n",
    "\n",
    "1. List voxel dimensions of all 3D volumes (i.e. series) that the dataset contains as WxHxD\n",
    "1. The dataset contains two outliers. Can you find them? Type up why do you think these volumes are outliers."
   ]
  },
  {
   "cell_type": "markdown",
   "metadata": {},
   "source": [
    "<TYPE YOUR ANSWERS HERE>"
   ]
  },
  {
   "cell_type": "code",
   "execution_count": 6,
   "metadata": {},
   "outputs": [],
   "source": [
    "import pydicom\n",
    "import matplotlib.pyplot as plt\n",
    "import matplotlib.cm as cm\n",
    "import numpy.ma as ma\n",
    "import numpy as np\n",
    "import os"
   ]
  },
  {
   "cell_type": "code",
   "execution_count": 8,
   "metadata": {},
   "outputs": [],
   "source": [
    "instances = []\n",
    "for path,dirs,files in os.walk('data'):\n",
    "    for f in files:\n",
    "        dcm = pydicom.dcmread(os.path.join(path, f), stop_before_pixels = True)\n",
    "        instances.append(dcm)"
   ]
  },
  {
   "cell_type": "code",
   "execution_count": 9,
   "metadata": {
    "scrolled": true
   },
   "outputs": [
    {
     "data": {
      "text/plain": [
       "864"
      ]
     },
     "execution_count": 9,
     "metadata": {},
     "output_type": "execute_result"
    }
   ],
   "source": [
    "len(instances)"
   ]
  },
  {
   "cell_type": "code",
   "execution_count": 11,
   "metadata": {},
   "outputs": [
    {
     "data": {
      "text/plain": [
       "(0008, 0005) Specific Character Set              CS: 'ISO_IR 100'\n",
       "(0008, 0008) Image Type                          CS: ['ORIGINAL', 'PRIMARY', 'OTHER']\n",
       "(0008, 0016) SOP Class UID                       UI: MR Image Storage\n",
       "(0008, 0018) SOP Instance UID                    UI: 1.3.6.1.4.1.14519.5.2.1.4429.7055.229098847496270476126665028704\n",
       "(0008, 0020) Study Date                          DA: '19940112'\n",
       "(0008, 0021) Series Date                         DA: '19940112'\n",
       "(0008, 0023) Content Date                        DA: '19940112'\n",
       "(0008, 0030) Study Time                          TM: '085518'\n",
       "(0008, 0031) Series Time                         TM: '090803'\n",
       "(0008, 0033) Content Time                        TM: '090803'\n",
       "(0008, 0050) Accession Number                    SH: '4468773825686010'\n",
       "(0008, 0060) Modality                            CS: 'MR'\n",
       "(0008, 0070) Manufacturer                        LO: 'Imaging Biometrics LLC'\n",
       "(0008, 0090) Referring Physician's Name          PN: ''\n",
       "(0008, 1030) Study Description                   LO: 'MR RCBV SEQUENCE FH'\n",
       "(0008, 103e) Series Description                  LO: 'FLAIR_reg'\n",
       "(0008, 1090) Manufacturer's Model Name           LO: 'IB Delta Suite'\n",
       "(0010, 0010) Patient's Name                      PN: 'PGBM-004'\n",
       "(0010, 0020) Patient ID                          LO: 'PGBM-004'\n",
       "(0010, 0030) Patient's Birth Date                DA: ''\n",
       "(0010, 0040) Patient's Sex                       CS: 'M'\n",
       "(0010, 1010) Patient's Age                       AS: '060Y'\n",
       "(0010, 1030) Patient's Weight                    DS: \"67.13\"\n",
       "(0012, 0062) Patient Identity Removed            CS: 'YES'\n",
       "(0012, 0063) De-identification Method            LO: 'Per DICOM PS 3.15 AnnexE. Details in 0012,0064'\n",
       "(0012, 0064)  De-identification Method Code Sequence   8 item(s) ---- \n",
       "   (0008, 0100) Code Value                          SH: '113100'\n",
       "   (0008, 0102) Coding Scheme Designator            SH: 'DCM'\n",
       "   (0008, 0104) Code Meaning                        LO: 'Basic Application Confidentiality Profile'\n",
       "   ---------\n",
       "   (0008, 0100) Code Value                          SH: '113101'\n",
       "   (0008, 0102) Coding Scheme Designator            SH: 'DCM'\n",
       "   (0008, 0104) Code Meaning                        LO: 'Clean Pixel Data Option'\n",
       "   ---------\n",
       "   (0008, 0100) Code Value                          SH: '113104'\n",
       "   (0008, 0102) Coding Scheme Designator            SH: 'DCM'\n",
       "   (0008, 0104) Code Meaning                        LO: 'Clean Structured Content Option'\n",
       "   ---------\n",
       "   (0008, 0100) Code Value                          SH: '113105'\n",
       "   (0008, 0102) Coding Scheme Designator            SH: 'DCM'\n",
       "   (0008, 0104) Code Meaning                        LO: 'Clean Descriptors Option'\n",
       "   ---------\n",
       "   (0008, 0100) Code Value                          SH: '113107'\n",
       "   (0008, 0102) Coding Scheme Designator            SH: 'DCM'\n",
       "   (0008, 0104) Code Meaning                        LO: 'Retain Longitudinal Temporal Information Modified Dates Option'\n",
       "   ---------\n",
       "   (0008, 0100) Code Value                          SH: '113108'\n",
       "   (0008, 0102) Coding Scheme Designator            SH: 'DCM'\n",
       "   (0008, 0104) Code Meaning                        LO: 'Retain Patient Characteristics Option'\n",
       "   ---------\n",
       "   (0008, 0100) Code Value                          SH: '113109'\n",
       "   (0008, 0102) Coding Scheme Designator            SH: 'DCM'\n",
       "   (0008, 0104) Code Meaning                        LO: 'Retain Device Identity Option'\n",
       "   ---------\n",
       "   (0008, 0100) Code Value                          SH: '113111'\n",
       "   (0008, 0102) Coding Scheme Designator            SH: 'DCM'\n",
       "   (0008, 0104) Code Meaning                        LO: 'Retain Safe Private Option'\n",
       "   ---------\n",
       "(0013, 0010) Private Creator                     LO: 'CTP'\n",
       "(0013, 1010) Private tag data                    LO: 'Brain-Tumor-Progression'\n",
       "(0013, 1013) Private tag data                    LO: '44297055'\n",
       "(0018, 0015) Body Part Examined                  CS: 'BRAIN'\n",
       "(0018, 0020) Scanning Sequence                   CS: ['SE', 'IR']\n",
       "(0018, 0021) Sequence Variant                    CS: 'SK'\n",
       "(0018, 0022) Scan Options                        CS: ['FAST_GEMS', 'FC_SLICE_AX_GEMS', 'FC', 'EDR_GEMS', 'TRF_GEMS', 'FILTERED_GEMS']\n",
       "(0018, 0023) MR Acquisition Type                 CS: '2D'\n",
       "(0018, 0025) Angio Flag                          CS: 'N'\n",
       "(0018, 0050) Slice Thickness                     DS: \"5.0\"\n",
       "(0018, 0080) Repetition Time                     DS: \"9000.0\"\n",
       "(0018, 0081) Echo Time                           DS: \"127.44\"\n",
       "(0018, 0082) Inversion Time                      DS: \"2250.0\"\n",
       "(0018, 0083) Number of Averages                  DS: \"1.0\"\n",
       "(0018, 0084) Imaging Frequency                   DS: \"127.748788\"\n",
       "(0018, 0085) Imaged Nucleus                      SH: '1H'\n",
       "(0018, 0086) Echo Number(s)                      IS: \"1\"\n",
       "(0018, 0087) Magnetic Field Strength             DS: \"3.0\"\n",
       "(0018, 0088) Spacing Between Slices              DS: \"6.5\"\n",
       "(0018, 0091) Echo Train Length                   IS: \"1\"\n",
       "(0018, 0093) Percent Sampling                    DS: \"100.0\"\n",
       "(0018, 0094) Percent Phase Field of View         DS: \"100.0\"\n",
       "(0018, 0095) Pixel Bandwidth                     DS: \"122.07\"\n",
       "(0018, 1020) Software Versions                   LO: 'ib_2_0_1172'\n",
       "(0018, 1030) Protocol Name                       LO: 'Brain - RCBV'\n",
       "(0018, 1088) Heart Rate                          IS: \"332\"\n",
       "(0018, 1090) Cardiac Number of Images            IS: \"0\"\n",
       "(0018, 1094) Trigger Window                      IS: \"0\"\n",
       "(0018, 1100) Reconstruction Diameter             DS: \"220.0\"\n",
       "(0018, 1250) Receive Coil Name                   SH: 'HNS Head'\n",
       "(0018, 1310) Acquisition Matrix                  US: [0, 0, 0, 0]\n",
       "(0018, 1312) In-plane Phase Encoding Direction   CS: 'ROW'\n",
       "(0018, 1314) Flip Angle                          DS: \"90.0\"\n",
       "(0018, 1315) Variable Flip Angle Flag            CS: 'N'\n",
       "(0018, 1316) SAR                                 DS: \"0.7857\"\n",
       "(0018, 5100) Patient Position                    CS: 'HFS'\n",
       "(0020, 000d) Study Instance UID                  UI: 1.3.6.1.4.1.14519.5.2.1.4429.7055.873522078320106668263470477052\n",
       "(0020, 000e) Series Instance UID                 UI: 1.3.6.1.4.1.14519.5.2.1.4429.7055.728364200801418237396977783812\n",
       "(0020, 0010) Study ID                            SH: ''\n",
       "(0020, 0011) Series Number                       IS: \"36489\"\n",
       "(0020, 0013) Instance Number                     IS: \"18\"\n",
       "(0020, 0032) Image Position (Patient)            DS: [-114.687, -140.696, 30.7559]\n",
       "(0020, 0037) Image Orientation (Patient)         DS: [0.997876, -0, 0.0651401, 0.0172376, 0.964352, -0.264062]\n",
       "(0020, 0052) Frame of Reference UID              UI: 1.3.6.1.4.1.14519.5.2.1.4429.7055.234519409277560889781316243626\n",
       "(0020, 0060) Laterality                          CS: ''\n",
       "(0020, 1040) Position Reference Indicator        LO: ''\n",
       "(0020, 1041) Slice Location                      DS: \"8.917232513\"\n",
       "(0028, 0002) Samples per Pixel                   US: 1\n",
       "(0028, 0004) Photometric Interpretation          CS: 'MONOCHROME2'\n",
       "(0028, 0010) Rows                                US: 512\n",
       "(0028, 0011) Columns                             US: 512\n",
       "(0028, 0030) Pixel Spacing                       DS: [0.4297, 0.4297]\n",
       "(0028, 0100) Bits Allocated                      US: 16\n",
       "(0028, 0101) Bits Stored                         US: 16\n",
       "(0028, 0102) High Bit                            US: 15\n",
       "(0028, 0103) Pixel Representation                US: 1\n",
       "(0028, 0303) Longitudinal Temporal Information M CS: 'MODIFIED'\n",
       "(0028, 1050) Window Center                       DS: \"1947.69565217391\"\n",
       "(0028, 1051) Window Width                        DS: \"3895.73913043478\"\n",
       "(0028, 1052) Rescale Intercept                   DS: \"0.0\"\n",
       "(0028, 1053) Rescale Slope                       DS: \"1.0\"\n",
       "(0028, 1054) Rescale Type                        LO: 'US'\n",
       "(0028, 1055) Window Center & Width Explanation   LO: 'LINEAR'\n",
       "(0028, 1056) VOI LUT Function                    CS: 'LINEAR'"
      ]
     },
     "execution_count": 11,
     "metadata": {},
     "output_type": "execute_result"
    }
   ],
   "source": [
    "instances[0]"
   ]
  },
  {
   "cell_type": "markdown",
   "metadata": {},
   "source": [
    "### Modality"
   ]
  },
  {
   "cell_type": "code",
   "execution_count": 13,
   "metadata": {},
   "outputs": [
    {
     "data": {
      "text/plain": [
       "['CT', 'MR']"
      ]
     },
     "execution_count": 13,
     "metadata": {},
     "output_type": "execute_result"
    }
   ],
   "source": [
    "modalities = [dcm.Modality for dcm in instances]\n",
    "np.unique(modalities).tolist()"
   ]
  },
  {
   "cell_type": "markdown",
   "metadata": {},
   "source": [
    "### Patients"
   ]
  },
  {
   "cell_type": "code",
   "execution_count": 18,
   "metadata": {
    "scrolled": true
   },
   "outputs": [
    {
     "data": {
      "text/plain": [
       "['123456', 'OPA135179', 'PGBM-003', 'PGBM-004', 'PGBM-005', 'PGBM-009']"
      ]
     },
     "execution_count": 18,
     "metadata": {},
     "output_type": "execute_result"
    }
   ],
   "source": [
    "patientIDs = [dcm.PatientID for dcm in instances]\n",
    "patientIDs = np.unique(patientIDs).tolist()\n",
    "patientIDs"
   ]
  },
  {
   "cell_type": "code",
   "execution_count": 19,
   "metadata": {},
   "outputs": [
    {
     "data": {
      "text/plain": [
       "6"
      ]
     },
     "execution_count": 19,
     "metadata": {},
     "output_type": "execute_result"
    }
   ],
   "source": [
    "len(patientIDs)"
   ]
  },
  {
   "cell_type": "markdown",
   "metadata": {},
   "source": [
    "### Studies"
   ]
  },
  {
   "cell_type": "code",
   "execution_count": 16,
   "metadata": {
    "scrolled": true
   },
   "outputs": [
    {
     "data": {
      "text/plain": [
       "['1.2.752.24.7.1550985044.2753616',\n",
       " '1.2.826.0.1.3680043.2.1125.1.9839520250291993940949520616565396',\n",
       " '1.3.6.1.4.1.14519.5.2.1.4429.7055.142872696423641709332868254917',\n",
       " '1.3.6.1.4.1.14519.5.2.1.4429.7055.173425268180092806279003900097',\n",
       " '1.3.6.1.4.1.14519.5.2.1.4429.7055.192304828189026101657054875952',\n",
       " '1.3.6.1.4.1.14519.5.2.1.4429.7055.205075845250444634584024148845',\n",
       " '1.3.6.1.4.1.14519.5.2.1.4429.7055.231796058972489013039499925050',\n",
       " '1.3.6.1.4.1.14519.5.2.1.4429.7055.729192279796218307950472057198',\n",
       " '1.3.6.1.4.1.14519.5.2.1.4429.7055.812059520220877654137991744184',\n",
       " '1.3.6.1.4.1.14519.5.2.1.4429.7055.873522078320106668263470477052']"
      ]
     },
     "execution_count": 16,
     "metadata": {},
     "output_type": "execute_result"
    }
   ],
   "source": [
    "studyIDs = [dcm.StudyInstanceUID for dcm in instances]\n",
    "studyIDs = np.unique(studyIDs).tolist()\n",
    "studyIDs"
   ]
  },
  {
   "cell_type": "code",
   "execution_count": 17,
   "metadata": {
    "scrolled": true
   },
   "outputs": [
    {
     "data": {
      "text/plain": [
       "10"
      ]
     },
     "execution_count": 17,
     "metadata": {},
     "output_type": "execute_result"
    }
   ],
   "source": [
    "len(studyIDs)"
   ]
  },
  {
   "cell_type": "code",
   "execution_count": 27,
   "metadata": {},
   "outputs": [
    {
     "data": {
      "text/plain": [
       "{('123456', '1.2.826.0.1.3680043.2.1125.1.9839520250291993940949520616565396'),\n",
       " ('OPA135179', '1.2.752.24.7.1550985044.2753616'),\n",
       " ('PGBM-003',\n",
       "  '1.3.6.1.4.1.14519.5.2.1.4429.7055.729192279796218307950472057198'),\n",
       " ('PGBM-003',\n",
       "  '1.3.6.1.4.1.14519.5.2.1.4429.7055.812059520220877654137991744184'),\n",
       " ('PGBM-004',\n",
       "  '1.3.6.1.4.1.14519.5.2.1.4429.7055.173425268180092806279003900097'),\n",
       " ('PGBM-004',\n",
       "  '1.3.6.1.4.1.14519.5.2.1.4429.7055.873522078320106668263470477052'),\n",
       " ('PGBM-005',\n",
       "  '1.3.6.1.4.1.14519.5.2.1.4429.7055.192304828189026101657054875952'),\n",
       " ('PGBM-005',\n",
       "  '1.3.6.1.4.1.14519.5.2.1.4429.7055.205075845250444634584024148845'),\n",
       " ('PGBM-009',\n",
       "  '1.3.6.1.4.1.14519.5.2.1.4429.7055.142872696423641709332868254917'),\n",
       " ('PGBM-009',\n",
       "  '1.3.6.1.4.1.14519.5.2.1.4429.7055.231796058972489013039499925050')}"
      ]
     },
     "execution_count": 27,
     "metadata": {},
     "output_type": "execute_result"
    }
   ],
   "source": [
    "studiesPatients = [(dcm.PatientID, dcm.StudyInstanceUID) for dcm in instances]\n",
    "studiesPatients = set(studiesPatients)\n",
    "studiesPatients"
   ]
  },
  {
   "cell_type": "markdown",
   "metadata": {},
   "source": [
    "### Study Dates"
   ]
  },
  {
   "cell_type": "code",
   "execution_count": 29,
   "metadata": {},
   "outputs": [
    {
     "data": {
      "text/plain": [
       "{('123456',\n",
       "  '1.2.826.0.1.3680043.2.1125.1.9839520250291993940949520616565396',\n",
       "  '20190101'),\n",
       " ('OPA135179', '1.2.752.24.7.1550985044.2753616', '20150116'),\n",
       " ('PGBM-003',\n",
       "  '1.3.6.1.4.1.14519.5.2.1.4429.7055.729192279796218307950472057198',\n",
       "  '19951017'),\n",
       " ('PGBM-003',\n",
       "  '1.3.6.1.4.1.14519.5.2.1.4429.7055.812059520220877654137991744184',\n",
       "  '19950329'),\n",
       " ('PGBM-004',\n",
       "  '1.3.6.1.4.1.14519.5.2.1.4429.7055.173425268180092806279003900097',\n",
       "  '19930622'),\n",
       " ('PGBM-004',\n",
       "  '1.3.6.1.4.1.14519.5.2.1.4429.7055.873522078320106668263470477052',\n",
       "  '19940112'),\n",
       " ('PGBM-005',\n",
       "  '1.3.6.1.4.1.14519.5.2.1.4429.7055.192304828189026101657054875952',\n",
       "  '19920505'),\n",
       " ('PGBM-005',\n",
       "  '1.3.6.1.4.1.14519.5.2.1.4429.7055.205075845250444634584024148845',\n",
       "  '19910702'),\n",
       " ('PGBM-009',\n",
       "  '1.3.6.1.4.1.14519.5.2.1.4429.7055.142872696423641709332868254917',\n",
       "  '19880512'),\n",
       " ('PGBM-009',\n",
       "  '1.3.6.1.4.1.14519.5.2.1.4429.7055.231796058972489013039499925050',\n",
       "  '19910103')}"
      ]
     },
     "execution_count": 29,
     "metadata": {},
     "output_type": "execute_result"
    }
   ],
   "source": [
    "studyDates = [(dcm.PatientID, dcm.StudyInstanceUID, dcm.StudyDate) for dcm in instances]\n",
    "studyDates = set(studyDates)\n",
    "studyDates"
   ]
  },
  {
   "cell_type": "code",
   "execution_count": 30,
   "metadata": {},
   "outputs": [
    {
     "data": {
      "text/plain": [
       "[('PGBM-009',\n",
       "  '1.3.6.1.4.1.14519.5.2.1.4429.7055.142872696423641709332868254917',\n",
       "  '19880512'),\n",
       " ('PGBM-009',\n",
       "  '1.3.6.1.4.1.14519.5.2.1.4429.7055.231796058972489013039499925050',\n",
       "  '19910103'),\n",
       " ('PGBM-005',\n",
       "  '1.3.6.1.4.1.14519.5.2.1.4429.7055.205075845250444634584024148845',\n",
       "  '19910702'),\n",
       " ('PGBM-005',\n",
       "  '1.3.6.1.4.1.14519.5.2.1.4429.7055.192304828189026101657054875952',\n",
       "  '19920505'),\n",
       " ('PGBM-004',\n",
       "  '1.3.6.1.4.1.14519.5.2.1.4429.7055.173425268180092806279003900097',\n",
       "  '19930622'),\n",
       " ('PGBM-004',\n",
       "  '1.3.6.1.4.1.14519.5.2.1.4429.7055.873522078320106668263470477052',\n",
       "  '19940112'),\n",
       " ('PGBM-003',\n",
       "  '1.3.6.1.4.1.14519.5.2.1.4429.7055.812059520220877654137991744184',\n",
       "  '19950329'),\n",
       " ('PGBM-003',\n",
       "  '1.3.6.1.4.1.14519.5.2.1.4429.7055.729192279796218307950472057198',\n",
       "  '19951017'),\n",
       " ('OPA135179', '1.2.752.24.7.1550985044.2753616', '20150116'),\n",
       " ('123456',\n",
       "  '1.2.826.0.1.3680043.2.1125.1.9839520250291993940949520616565396',\n",
       "  '20190101')]"
      ]
     },
     "execution_count": 30,
     "metadata": {},
     "output_type": "execute_result"
    }
   ],
   "source": [
    "studyDates = sorted(studyDates, key=lambda x: x[2])\n",
    "studyDates"
   ]
  },
  {
   "cell_type": "markdown",
   "metadata": {},
   "source": [
    "### Series"
   ]
  },
  {
   "cell_type": "code",
   "execution_count": 32,
   "metadata": {},
   "outputs": [
    {
     "data": {
      "text/plain": [
       "{'1.2.826.0.1.3680043.2.1125.1.45859137663006505718300393375464286',\n",
       " '1.3.12.2.1107.5.2.33.37105.2015011616025092819028166.0.0.0',\n",
       " '1.3.6.1.4.1.14519.5.2.1.4429.7055.105521800202421035670670758706',\n",
       " '1.3.6.1.4.1.14519.5.2.1.4429.7055.108708982094690934070899838243',\n",
       " '1.3.6.1.4.1.14519.5.2.1.4429.7055.111299569371716382165219422799',\n",
       " '1.3.6.1.4.1.14519.5.2.1.4429.7055.131971402732874033229609248302',\n",
       " '1.3.6.1.4.1.14519.5.2.1.4429.7055.137802635701410656176169562528',\n",
       " '1.3.6.1.4.1.14519.5.2.1.4429.7055.148342356080268980546237840587',\n",
       " '1.3.6.1.4.1.14519.5.2.1.4429.7055.149455479236394071679725178532',\n",
       " '1.3.6.1.4.1.14519.5.2.1.4429.7055.158869091666854803918782490935',\n",
       " '1.3.6.1.4.1.14519.5.2.1.4429.7055.165843183220097757648432257390',\n",
       " '1.3.6.1.4.1.14519.5.2.1.4429.7055.167613564536106399232524912048',\n",
       " '1.3.6.1.4.1.14519.5.2.1.4429.7055.170099978014836890431312652906',\n",
       " '1.3.6.1.4.1.14519.5.2.1.4429.7055.201921745402287812448748810010',\n",
       " '1.3.6.1.4.1.14519.5.2.1.4429.7055.211130119213590294311880514408',\n",
       " '1.3.6.1.4.1.14519.5.2.1.4429.7055.214279913601315478068344395213',\n",
       " '1.3.6.1.4.1.14519.5.2.1.4429.7055.223133215495128411564518210326',\n",
       " '1.3.6.1.4.1.14519.5.2.1.4429.7055.231116285499203734317125269666',\n",
       " '1.3.6.1.4.1.14519.5.2.1.4429.7055.249332750522009823872986282200',\n",
       " '1.3.6.1.4.1.14519.5.2.1.4429.7055.250698293053013179878447218670',\n",
       " '1.3.6.1.4.1.14519.5.2.1.4429.7055.276770677201759689184680286476',\n",
       " '1.3.6.1.4.1.14519.5.2.1.4429.7055.283146136537679072065477030736',\n",
       " '1.3.6.1.4.1.14519.5.2.1.4429.7055.285581607999649001090869568979',\n",
       " '1.3.6.1.4.1.14519.5.2.1.4429.7055.290881399408626464415134513575',\n",
       " '1.3.6.1.4.1.14519.5.2.1.4429.7055.292260123189044684287428848596',\n",
       " '1.3.6.1.4.1.14519.5.2.1.4429.7055.293816446347585254079913156086',\n",
       " '1.3.6.1.4.1.14519.5.2.1.4429.7055.295423364175091911131452091831',\n",
       " '1.3.6.1.4.1.14519.5.2.1.4429.7055.338954569012020140657951382116',\n",
       " '1.3.6.1.4.1.14519.5.2.1.4429.7055.728364200801418237396977783812',\n",
       " '1.3.6.1.4.1.14519.5.2.1.4429.7055.732954519300668202085572772042',\n",
       " '1.3.6.1.4.1.14519.5.2.1.4429.7055.874630167789792163807785802052',\n",
       " '1.3.6.1.4.1.14519.5.2.1.4429.7055.951760044234185587156102946949'}"
      ]
     },
     "execution_count": 32,
     "metadata": {},
     "output_type": "execute_result"
    }
   ],
   "source": [
    "series = [dcm.SeriesInstanceUID for dcm in instances]\n",
    "series = set(series)\n",
    "series"
   ]
  },
  {
   "cell_type": "code",
   "execution_count": 33,
   "metadata": {
    "scrolled": true
   },
   "outputs": [
    {
     "data": {
      "text/plain": [
       "32"
      ]
     },
     "execution_count": 33,
     "metadata": {},
     "output_type": "execute_result"
    }
   ],
   "source": [
    "len(series)"
   ]
  },
  {
   "cell_type": "markdown",
   "metadata": {},
   "source": [
    "### Instances per Series per Study per Patient"
   ]
  },
  {
   "cell_type": "code",
   "execution_count": 34,
   "metadata": {},
   "outputs": [],
   "source": [
    "patientStudySeries = [(dcm.PatientID, dcm.StudyInstanceUID, dcm.SeriesInstanceUID, dcm.InstanceNumber) for dcm in instances]\n",
    "patientStudySeries = set(patientStudySeries)\n",
    "patients = {}\n",
    "\n",
    "for t in patientStudySeries:\n",
    "    if t[0] not in patients:\n",
    "        patients[t[0]] = {}\n",
    "    \n",
    "    if t[1] not in patients[t[0]]:\n",
    "        patients[t[0]][t[1]] = {}\n",
    "        \n",
    "    if t[2] not in patients[t[0]][t[1]]:\n",
    "        patients[t[0]][t[1]][t[2]] = {}\n",
    "    \n",
    "    if t[3] not in patients[t[0]][t[1]][t[2]]:\n",
    "        patients[t[0]][t[1]][t[2]][t[3]] = {}\n",
    "        \n",
    "    patients[t[0]][t[1]][t[2]][t[3]]['test'] = 1\n",
    "    "
   ]
  },
  {
   "cell_type": "code",
   "execution_count": 35,
   "metadata": {},
   "outputs": [
    {
     "data": {
      "text/plain": [
       "6"
      ]
     },
     "execution_count": 35,
     "metadata": {},
     "output_type": "execute_result"
    }
   ],
   "source": [
    "len(patients)"
   ]
  },
  {
   "cell_type": "code",
   "execution_count": 37,
   "metadata": {},
   "outputs": [
    {
     "data": {
      "text/plain": [
       "['123456', 'OPA135179', 'PGBM-003', 'PGBM-004', 'PGBM-005', 'PGBM-009']"
      ]
     },
     "execution_count": 37,
     "metadata": {},
     "output_type": "execute_result"
    }
   ],
   "source": [
    "sorted(patients.keys())"
   ]
  },
  {
   "cell_type": "code",
   "execution_count": 41,
   "metadata": {},
   "outputs": [
    {
     "name": "stdout",
     "output_type": "stream",
     "text": [
      "123456:\t studies: 1\n",
      "OPA135179:\t studies: 1\n",
      "PGBM-003:\t studies: 2\n",
      "PGBM-004:\t studies: 2\n",
      "PGBM-005:\t studies: 2\n",
      "PGBM-009:\t studies: 2\n"
     ]
    }
   ],
   "source": [
    "for p in sorted(patients.keys()):\n",
    "    print(f'{p}:\\t studies: {len(patients[p])}')"
   ]
  },
  {
   "cell_type": "code",
   "execution_count": 45,
   "metadata": {},
   "outputs": [
    {
     "name": "stdout",
     "output_type": "stream",
     "text": [
      "123456:\t studies: 1\n",
      "\t 1.2.826.0.1.3680043.2.1125.1.9839520250291993940949520616565396:\t series: 1\n",
      "\t\t 1.2.826.0.1.3680043.2.1125.1.9839520250291993940949520616565396:\t instances: 139\n",
      "\n",
      "OPA135179:\t studies: 1\n",
      "\t 1.2.752.24.7.1550985044.2753616:\t series: 1\n",
      "\t\t 1.2.752.24.7.1550985044.2753616:\t instances: 36\n",
      "\n",
      "PGBM-003:\t studies: 2\n",
      "\t 1.3.6.1.4.1.14519.5.2.1.4429.7055.729192279796218307950472057198:\t series: 4\n",
      "\t\t 1.3.6.1.4.1.14519.5.2.1.4429.7055.729192279796218307950472057198:\t instances: 24\n",
      "\t\t 1.3.6.1.4.1.14519.5.2.1.4429.7055.729192279796218307950472057198:\t instances: 24\n",
      "\t\t 1.3.6.1.4.1.14519.5.2.1.4429.7055.729192279796218307950472057198:\t instances: 24\n",
      "\t\t 1.3.6.1.4.1.14519.5.2.1.4429.7055.729192279796218307950472057198:\t instances: 24\n",
      "\t 1.3.6.1.4.1.14519.5.2.1.4429.7055.812059520220877654137991744184:\t series: 4\n",
      "\t\t 1.3.6.1.4.1.14519.5.2.1.4429.7055.812059520220877654137991744184:\t instances: 22\n",
      "\t\t 1.3.6.1.4.1.14519.5.2.1.4429.7055.812059520220877654137991744184:\t instances: 22\n",
      "\t\t 1.3.6.1.4.1.14519.5.2.1.4429.7055.812059520220877654137991744184:\t instances: 22\n",
      "\t\t 1.3.6.1.4.1.14519.5.2.1.4429.7055.812059520220877654137991744184:\t instances: 22\n",
      "\n",
      "PGBM-004:\t studies: 2\n",
      "\t 1.3.6.1.4.1.14519.5.2.1.4429.7055.173425268180092806279003900097:\t series: 4\n",
      "\t\t 1.3.6.1.4.1.14519.5.2.1.4429.7055.173425268180092806279003900097:\t instances: 22\n",
      "\t\t 1.3.6.1.4.1.14519.5.2.1.4429.7055.173425268180092806279003900097:\t instances: 22\n",
      "\t\t 1.3.6.1.4.1.14519.5.2.1.4429.7055.173425268180092806279003900097:\t instances: 22\n",
      "\t\t 1.3.6.1.4.1.14519.5.2.1.4429.7055.173425268180092806279003900097:\t instances: 22\n",
      "\t 1.3.6.1.4.1.14519.5.2.1.4429.7055.873522078320106668263470477052:\t series: 4\n",
      "\t\t 1.3.6.1.4.1.14519.5.2.1.4429.7055.873522078320106668263470477052:\t instances: 23\n",
      "\t\t 1.3.6.1.4.1.14519.5.2.1.4429.7055.873522078320106668263470477052:\t instances: 23\n",
      "\t\t 1.3.6.1.4.1.14519.5.2.1.4429.7055.873522078320106668263470477052:\t instances: 23\n",
      "\t\t 1.3.6.1.4.1.14519.5.2.1.4429.7055.873522078320106668263470477052:\t instances: 23\n",
      "\n",
      "PGBM-005:\t studies: 2\n",
      "\t 1.3.6.1.4.1.14519.5.2.1.4429.7055.192304828189026101657054875952:\t series: 4\n",
      "\t\t 1.3.6.1.4.1.14519.5.2.1.4429.7055.192304828189026101657054875952:\t instances: 22\n",
      "\t\t 1.3.6.1.4.1.14519.5.2.1.4429.7055.192304828189026101657054875952:\t instances: 22\n",
      "\t\t 1.3.6.1.4.1.14519.5.2.1.4429.7055.192304828189026101657054875952:\t instances: 22\n",
      "\t\t 1.3.6.1.4.1.14519.5.2.1.4429.7055.192304828189026101657054875952:\t instances: 22\n",
      "\t 1.3.6.1.4.1.14519.5.2.1.4429.7055.205075845250444634584024148845:\t series: 4\n",
      "\t\t 1.3.6.1.4.1.14519.5.2.1.4429.7055.205075845250444634584024148845:\t instances: 24\n",
      "\t\t 1.3.6.1.4.1.14519.5.2.1.4429.7055.205075845250444634584024148845:\t instances: 24\n",
      "\t\t 1.3.6.1.4.1.14519.5.2.1.4429.7055.205075845250444634584024148845:\t instances: 24\n",
      "\t\t 1.3.6.1.4.1.14519.5.2.1.4429.7055.205075845250444634584024148845:\t instances: 24\n",
      "\n",
      "PGBM-009:\t studies: 2\n",
      "\t 1.3.6.1.4.1.14519.5.2.1.4429.7055.142872696423641709332868254917:\t series: 3\n",
      "\t\t 1.3.6.1.4.1.14519.5.2.1.4429.7055.142872696423641709332868254917:\t instances: 22\n",
      "\t\t 1.3.6.1.4.1.14519.5.2.1.4429.7055.142872696423641709332868254917:\t instances: 22\n",
      "\t\t 1.3.6.1.4.1.14519.5.2.1.4429.7055.142872696423641709332868254917:\t instances: 22\n",
      "\t 1.3.6.1.4.1.14519.5.2.1.4429.7055.231796058972489013039499925050:\t series: 3\n",
      "\t\t 1.3.6.1.4.1.14519.5.2.1.4429.7055.231796058972489013039499925050:\t instances: 25\n",
      "\t\t 1.3.6.1.4.1.14519.5.2.1.4429.7055.231796058972489013039499925050:\t instances: 25\n",
      "\t\t 1.3.6.1.4.1.14519.5.2.1.4429.7055.231796058972489013039499925050:\t instances: 25\n",
      "\n"
     ]
    }
   ],
   "source": [
    "for p in sorted(patients.keys()):\n",
    "    print(f'{p}:\\t studies: {len(patients[p])}')\n",
    "    for study in sorted(patients[p].keys()):\n",
    "        print(f'\\t {study}:\\t series: {len(patients[p][study])}')\n",
    "        for series in sorted(patients[p][study].keys()):\n",
    "            print(f'\\t\\t {study}:\\t instances: {len(patients[p][study][series])}')\n",
    "    print('')\n"
   ]
  },
  {
   "cell_type": "code",
   "execution_count": null,
   "metadata": {},
   "outputs": [],
   "source": []
  }
 ],
 "metadata": {
  "kernelspec": {
   "display_name": "Python 3",
   "language": "python",
   "name": "python3"
  },
  "language_info": {
   "codemirror_mode": {
    "name": "ipython",
    "version": 3
   },
   "file_extension": ".py",
   "mimetype": "text/x-python",
   "name": "python",
   "nbconvert_exporter": "python",
   "pygments_lexer": "ipython3",
   "version": "3.7.6"
  }
 },
 "nbformat": 4,
 "nbformat_minor": 4
}
